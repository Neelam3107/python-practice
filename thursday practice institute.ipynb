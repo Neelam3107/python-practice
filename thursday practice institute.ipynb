{
 "cells": [
  {
   "cell_type": "code",
   "execution_count": 4,
   "id": "48f48c39",
   "metadata": {},
   "outputs": [
    {
     "name": "stdout",
     "output_type": "stream",
     "text": [
      "the bird name parrot has a green color\n"
     ]
    }
   ],
   "source": [
    "class bird :\n",
    "    def __init__(self, name, colour):\n",
    "        self.name = name\n",
    "        self.colour = colour\n",
    "        \n",
    "    def display(self):\n",
    "        return f\"the bird name {self.name} has a {self.colour} color\"\n",
    "\n",
    "obj = bird(\"parrot\", \"green\")\n",
    "print(obj.display())\n",
    "    \n",
    "    "
   ]
  },
  {
   "cell_type": "code",
   "execution_count": null,
   "id": "b4456aac",
   "metadata": {},
   "outputs": [],
   "source": [
    " ### 3 Check whether encapsulation(private variable) handle with inheritance or no\n",
    "    "
   ]
  },
  {
   "cell_type": "code",
   "execution_count": 1,
   "id": "0d9edd48",
   "metadata": {},
   "outputs": [
    {
     "name": "stdout",
     "output_type": "stream",
     "text": [
      "the vehical name bharat benz and the capacity is 40 passanger.\n"
     ]
    }
   ],
   "source": [
    "class vehical :\n",
    "    \n",
    "    def __init__(self, name, capacity):\n",
    "        self.__name = name\n",
    "        self.capacity = capacity\n",
    "        \n",
    "    def display (self):\n",
    "        return f\"the vehical name {self.__name} and the capacity is {self.capacity} passanger.\"\n",
    "    \n",
    "    \n",
    "class bus(vehical):a\n",
    "    pass\n",
    "\n",
    "obj = bus(\"bharat benz\", 40)\n",
    "print(obj.display())\n"
   ]
  },
  {
   "cell_type": "code",
   "execution_count": null,
   "id": "4266f305",
   "metadata": {},
   "outputs": [],
   "source": [
    "Define a class attribute color with a default value white. i.e. Every vehicle should be white.\n"
   ]
  },
  {
   "cell_type": "code",
   "execution_count": 6,
   "id": "01e134c9",
   "metadata": {},
   "outputs": [
    {
     "ename": "NameError",
     "evalue": "name 'volvo' is not defined",
     "output_type": "error",
     "traceback": [
      "\u001b[1;31m---------------------------------------------------------------------------\u001b[0m",
      "\u001b[1;31mNameError\u001b[0m                                 Traceback (most recent call last)",
      "\u001b[1;32m~\\AppData\\Local\\Temp\\ipykernel_12696\\708615756.py\u001b[0m in \u001b[0;36m<module>\u001b[1;34m\u001b[0m\n\u001b[0;32m     12\u001b[0m         \u001b[1;32mreturn\u001b[0m \u001b[1;34mf\"the bus colour is {self.colour} and bus name is {self.name} and max_speed is {self.max_speed} with milage {self. milage}\"\u001b[0m\u001b[1;33m\u001b[0m\u001b[1;33m\u001b[0m\u001b[0m\n\u001b[0;32m     13\u001b[0m \u001b[1;33m\u001b[0m\u001b[0m\n\u001b[1;32m---> 14\u001b[1;33m \u001b[1;32mclass\u001b[0m \u001b[0mbus\u001b[0m\u001b[1;33m(\u001b[0m\u001b[0mvolvo\u001b[0m\u001b[1;33m)\u001b[0m\u001b[1;33m:\u001b[0m\u001b[1;33m\u001b[0m\u001b[1;33m\u001b[0m\u001b[0m\n\u001b[0m\u001b[0;32m     15\u001b[0m     \u001b[1;32mpass\u001b[0m\u001b[1;33m\u001b[0m\u001b[1;33m\u001b[0m\u001b[0m\n\u001b[0;32m     16\u001b[0m \u001b[1;33m\u001b[0m\u001b[0m\n",
      "\u001b[1;31mNameError\u001b[0m: name 'volvo' is not defined"
     ]
    }
   ],
   "source": [
    "class bus :\n",
    "    \n",
    "    \n",
    "    def __init__(self,  colour, name, max_speed, milage):\n",
    "        \n",
    "        self.colour = colour\n",
    "        self.name = name\n",
    "        self.max_speed = max_speed\n",
    "        self.milage = milage\n",
    "        \n",
    "    def display (self):\n",
    "        return f\"the bus colour is {self.colour} and bus name is {self.name} and max_speed is {self.max_speed} with milage {self. milage}\"\n",
    "        \n",
    "class bus(volvo):\n",
    "    pass\n",
    "\n",
    "class car (bmw):\n",
    "    \n",
    "    def car_display (self):\n",
    "        return f\"the car colour is {self.colour} and the car name is {self.name} and max_speed is{self.max_speed} with milage{self.milage}\"\n",
    "    \n",
    "obj1 = bus(\"white\", \"volvo\", 140, 40)\n",
    "print(obj1.display())\n",
    "    \n",
    "obj2 = car(\"white\",\"bmw\", 180, 60)\n",
    "print(obj2.display())\n",
    "print(obj2.car_dis())\n",
    "    \n",
    "    \n"
   ]
  },
  {
   "cell_type": "code",
   "execution_count": null,
   "id": "a990fc86",
   "metadata": {},
   "outputs": [],
   "source": []
  }
 ],
 "metadata": {
  "kernelspec": {
   "display_name": "Python 3 (ipykernel)",
   "language": "python",
   "name": "python3"
  },
  "language_info": {
   "codemirror_mode": {
    "name": "ipython",
    "version": 3
   },
   "file_extension": ".py",
   "mimetype": "text/x-python",
   "name": "python",
   "nbconvert_exporter": "python",
   "pygments_lexer": "ipython3",
   "version": "3.9.13"
  }
 },
 "nbformat": 4,
 "nbformat_minor": 5
}

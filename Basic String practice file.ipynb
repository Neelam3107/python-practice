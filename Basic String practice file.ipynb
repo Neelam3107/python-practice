{
 "cells": [
  {
   "cell_type": "code",
   "execution_count": 25,
   "id": "96b65378",
   "metadata": {},
   "outputs": [
    {
     "name": "stdout",
     "output_type": "stream",
     "text": [
      "i LoVe pYtHoN prOGrAm\n"
     ]
    }
   ],
   "source": [
    "x=('i LoVe PYtHoN PrOGrAm')\n",
    "x.swapcase()\n",
    "print(\"i LoVe pYtHoN prOGrAm\")\n"
   ]
  },
  {
   "cell_type": "code",
   "execution_count": 23,
   "id": "e24ac211",
   "metadata": {},
   "outputs": [
    {
     "name": "stdout",
     "output_type": "stream",
     "text": [
      "I love python program\n"
     ]
    }
   ],
   "source": [
    "####Q1.write a code to get the following ouput....\n",
    "a='I love python program'\n",
    "a.capitalize()\n",
    "print(\"I love python program\")"
   ]
  },
  {
   "cell_type": "code",
   "execution_count": 26,
   "id": "65e9e783",
   "metadata": {},
   "outputs": [
    {
     "name": "stdout",
     "output_type": "stream",
     "text": [
      "I Love Python Program\n"
     ]
    }
   ],
   "source": [
    " ####Q2.write a code to get the following ouput....\n",
    "a='I Love Python Program'\n",
    "a.title()\n",
    "print(\"I Love Python Program\")"
   ]
  },
  {
   "cell_type": "code",
   "execution_count": 27,
   "id": "f0651011",
   "metadata": {},
   "outputs": [
    {
     "name": "stdout",
     "output_type": "stream",
     "text": [
      " i love python progra\n"
     ]
    }
   ],
   "source": [
    " ###Q3.write a code to get the following ouput....\n",
    "a= 'i love python program'\n",
    "a.lower()\n",
    "print(\" i love python progra\")\n",
    "\n",
    "    "
   ]
  },
  {
   "cell_type": "code",
   "execution_count": 28,
   "id": "da96f749",
   "metadata": {},
   "outputs": [
    {
     "name": "stdout",
     "output_type": "stream",
     "text": [
      "I LOVE PYTHON PROGRAM \n"
     ]
    }
   ],
   "source": [
    " #### Q4.write a code to get the following ouput....\n",
    "a= 'I LOVE PYTHON PROGRAM'\n",
    "a.upper()\n",
    "print(\"I LOVE PYTHON PROGRAM \")"
   ]
  },
  {
   "cell_type": "code",
   "execution_count": 33,
   "id": "289241e8",
   "metadata": {},
   "outputs": [
    {
     "name": "stdout",
     "output_type": "stream",
     "text": [
      "my name is neelam and my age is 30\n"
     ]
    }
   ],
   "source": [
    "###Q5.use format method to inject the following name and age\n",
    "name=\"neelam\"\n",
    "age=30\n",
    "string=\"my name is {} and my age is {}\"\n",
    "formatted_string = string.format(name, age)\n",
    "print(formatted_string)"
   ]
  },
  {
   "cell_type": "code",
   "execution_count": null,
   "id": "562647ec",
   "metadata": {},
   "outputs": [],
   "source": []
  }
 ],
 "metadata": {
  "kernelspec": {
   "display_name": "Python 3 (ipykernel)",
   "language": "python",
   "name": "python3"
  },
  "language_info": {
   "codemirror_mode": {
    "name": "ipython",
    "version": 3
   },
   "file_extension": ".py",
   "mimetype": "text/x-python",
   "name": "python",
   "nbconvert_exporter": "python",
   "pygments_lexer": "ipython3",
   "version": "3.9.13"
  }
 },
 "nbformat": 4,
 "nbformat_minor": 5
}
